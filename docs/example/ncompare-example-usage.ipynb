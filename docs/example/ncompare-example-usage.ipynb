{
 "cells": [
  {
   "cell_type": "markdown",
   "id": "214b2e0a-4a8a-48bb-b1f5-b457b69ece57",
   "metadata": {},
   "source": [
    "# Brief demonstration of ncompare: comparing the structure, groups, variables, and attributes of two netCDF files"
   ]
  },
  {
   "cell_type": "markdown",
   "id": "351983d5-1c2f-45ee-8a24-cd2a3b621405",
   "metadata": {},
   "source": [
    "Installation instructions for `ncompare` can be found in either of these locations:\n",
    "\n",
    "- [GitHub repository](https://github.com/nasa/ncompare)\n",
    "- [Pip entry](https://pypi.org/project/ncompare/)"
   ]
  },
  {
   "cell_type": "markdown",
   "id": "569c088b-0929-43c3-8d0f-6da3b6c89cce",
   "metadata": {},
   "source": [
    "# Command Line Usage"
   ]
  },
  {
   "cell_type": "markdown",
   "id": "14790bf9-9504-4823-9370-db738fe29355",
   "metadata": {},
   "source": [
    "## `ncompare`'s command line arguments, provided by the `--help` description"
   ]
  },
  {
   "cell_type": "markdown",
   "id": "6a145933-e57b-4e33-bed1-95b13800878d",
   "metadata": {},
   "source": [
    "***✍️ Syntax Note:*** Commands are preceded by an exclamation point \"!\"\n",
    "(which is needed to [run shell commands in a Jupyter notebook](https://stackoverflow.com/a/48529220)) can be run from a terminal.  \n",
    "In a shell/terminal, the exclamation point should not be used."
   ]
  },
  {
   "cell_type": "code",
   "execution_count": 1,
   "id": "07e397b3-4964-4a90-b7f5-ae35185f86e5",
   "metadata": {
    "ExecuteTime": {
     "end_time": "2025-01-06T15:43:44.994158Z",
     "start_time": "2025-01-06T15:43:44.241846Z"
    }
   },
   "outputs": [
    {
     "name": "stdout",
     "output_type": "stream",
     "text": [
      "usage: ncompare [-h] [--only-diffs] [--file-text FILE_TEXT]\n",
      "                [--file-csv FILE_CSV] [--file-xlsx FILE_XLSX] [--no-color]\n",
      "                [--show-attributes] [--show-chunks]\n",
      "                [--column-widths COLUMN_WIDTHS COLUMN_WIDTHS COLUMN_WIDTHS]\n",
      "                [--version]\n",
      "                path_a path_b\n",
      "\n",
      "Compare the variables contained within two different netCDF datasets\n",
      "\n",
      "positional arguments:\n",
      "  path_a                First (netCDF or HDF) file\n",
      "  path_b                Second (netCDF or HDF) file\n",
      "\n",
      "options:\n",
      "  -h, --help            show this help message and exit\n",
      "  --only-diffs          Only display variables and attributes that are\n",
      "                        different\n",
      "  --file-text FILE_TEXT\n",
      "                        A text file to which the output will be written.\n",
      "  --file-csv FILE_CSV   A csv (comma separated values) file to which the\n",
      "                        output will be written.\n",
      "  --file-xlsx FILE_XLSX\n",
      "                        An Excel file to which the output will be written.\n",
      "  --no-color            Turn off all colorized output\n",
      "  --show-attributes     Include variable attributes in comparison\n",
      "  --show-chunks         Include chunk sizes in the table that compares\n",
      "                        variables\n",
      "  --column-widths COLUMN_WIDTHS COLUMN_WIDTHS COLUMN_WIDTHS\n",
      "                        Width, in number of characters, of the three columns\n",
      "                        in the comparison report\n",
      "  --version             Show the current version.\n"
     ]
    }
   ],
   "source": [
    "! ncompare --help"
   ]
  },
  {
   "cell_type": "markdown",
   "id": "4028d153-a1d2-4f8b-aad5-ca736b6c8292",
   "metadata": {},
   "source": [
    "## Example 1: Two netCDF files with the same groups, variables, and attributes\n",
    "----"
   ]
  },
  {
   "cell_type": "markdown",
   "id": "6992fa0f-7460-42c8-b0d4-d0634ddcc798",
   "metadata": {},
   "source": [
    "Data files are first defined. The examples here rely on three files: two from NOAA National Centers of Environmental Information's (NCEI) (a) _[Global Precipitation Climatology Project (GPCP) Climate Data Record (CDR), Monthly V2.3](https://doi.org/10.7289/V56971M6)_ and one from the (b) _[Climate Data Record (CDR) of Precipitation Estimation from Remotely Sensed Information using Artificial Neural Networks (PERSIANN-CDR), Version 1 Revision 1)](https://doi.org/10.7289/V51V5BWQ)_ (a daily quasi-global precipitation product), accessible via [this GPCP catalog](https://www.ncei.noaa.gov/thredds/catalog/cdr/gpcp_final/2023/catalog.html) and [this PERSIANN catalog](https://www.ncei.noaa.gov/thredds/catalog/cdr/persiann/catalog.html):\n",
    "\n",
    "1. https://www.ncei.noaa.gov/thredds/catalog/cdr/gpcp_final/2023/catalog.html?dataset=cdr_gpcp_final/2023/gpcp_v02r03_monthly_d202301_c20230411.nc\n",
    "2. https://www.ncei.noaa.gov/thredds/catalog/cdr/gpcp_final/2023/catalog.html?dataset=cdr_gpcp_final/2023/gpcp_v02r03_monthly_d202302_c20230505.nc\n",
    "3. https://www.ncei.noaa.gov/thredds/fileServer/cdr/persiann/2023/PERSIANN-CDR_v01r01_20230419_c20231030.nc"
   ]
  },
  {
   "cell_type": "code",
   "execution_count": 2,
   "id": "136bbeb8-6d74-4373-8ef7-1c20c1fe6afc",
   "metadata": {
    "ExecuteTime": {
     "end_time": "2025-01-06T15:43:53.556780Z",
     "start_time": "2025-01-06T15:43:53.554205Z"
    }
   },
   "outputs": [],
   "source": [
    "from pathlib import Path\n",
    "\n",
    "file_urls = [\n",
    "    \"https://www.ncei.noaa.gov/thredds/fileServer/cdr/gpcp_final/2023/gpcp_v02r03_monthly_d202301_c20230411.nc\",\n",
    "    \"https://www.ncei.noaa.gov/thredds/fileServer/cdr/gpcp_final/2023/gpcp_v02r03_monthly_d202302_c20230505.nc\",\n",
    "    \"https://www.ncei.noaa.gov/thredds/fileServer/cdr/persiann/2023/PERSIANN-CDR_v01r01_20230419_c20231030.nc\",\n",
    "]\n",
    "\n",
    "file_names = [Path(url).name for url in file_urls]"
   ]
  },
  {
   "cell_type": "markdown",
   "id": "2b635084-8b99-4824-9f36-27b1c31bd2a5",
   "metadata": {},
   "source": [
    "To download these files (e.g., for the first time running this notebook), run the following:"
   ]
  },
  {
   "cell_type": "code",
   "execution_count": 3,
   "id": "10a025b9-4483-4925-873e-6653b64441e3",
   "metadata": {
    "ExecuteTime": {
     "end_time": "2025-01-06T15:43:58.935155Z",
     "start_time": "2025-01-06T15:43:57.402223Z"
    }
   },
   "outputs": [],
   "source": [
    "import requests\n",
    "\n",
    "for url, filename in zip(file_urls, file_names):\n",
    "    r = requests.get(url, allow_redirects=True)\n",
    "    open(filename, \"wb\").write(r.content)"
   ]
  },
  {
   "cell_type": "markdown",
   "id": "56b0eeba-20ed-46ed-a14b-593b59c2d9cd",
   "metadata": {},
   "source": [
    "Next, we pass the two filepaths to `ncompare`, and any differences would be printed in red. In this case, there are no differences; therefore, all of the variables are printed in black."
   ]
  },
  {
   "cell_type": "markdown",
   "id": "a2ea8513-19ce-4089-8494-e0fba9aea789",
   "metadata": {},
   "source": [
    "***✍️ Syntax Note:*** the curly brackets, \"{\" and \"}\", that follow are simply a way to [substitute python variables into a shell command](https://stackoverflow.com/a/35497161). \n",
    "In a shell/terminal, one can just write out the full arguments, separated by spaces.\n",
    "For example, the following command would be run at the terminal as `ncompare notebook_example_data/MOP03JM-202205-L3V95.6.3.he5 notebook_example_data/MOP03JM-202205-L3V95.9.3.he5`\n",
    "\n",
    "***✍️ `ncompare` Options Note:*** the `--column-widths 33 26 26` arguments are optional, and they are being used here to shrink the columns width-wise from their defaults to a size that fits better in the GitHub notebook renderer."
   ]
  },
  {
   "cell_type": "code",
   "execution_count": 4,
   "id": "43cace42-aa55-469e-84d9-13a45115267e",
   "metadata": {
    "ExecuteTime": {
     "end_time": "2025-01-06T15:44:04.144831Z",
     "start_time": "2025-01-06T15:44:03.492659Z"
    }
   },
   "outputs": [
    {
     "name": "stdout",
     "output_type": "stream",
     "text": [
      "\u001b[37m\u001b[0mFile A: gpcp_v02r03_monthly_d202301_c20230411.nc\u001b[0m\n",
      "\u001b[0m\u001b[37m\u001b[0mFile B: gpcp_v02r03_monthly_d202302_c20230505.nc\u001b[0m\n",
      "\u001b[0m\u001b[37m\u001b[0m\u001b[94m\n",
      "Root-level Dimensions:\u001b[0m\n",
      "\u001b[0m\u001b[37m\u001b[0m\t\u001b[36mAre all items the same? ---> True.\u001b[0m\n",
      "\u001b[0m\u001b[37m\u001b[0m\t\u001b[36m[('latitude', 72), ('longitude', 144), ('nv', 2), ('time', 1)]\u001b[0m\n",
      "\u001b[0m\u001b[37m\u001b[0m\u001b[94m\n",
      "Root-level Groups:\u001b[0m\n",
      "\u001b[0m\u001b[37m\u001b[0m\t\u001b[36mAre all items the same? ---> True.  (No items exist.)\u001b[0m\n",
      "\u001b[0m\u001b[37m\u001b[0m\u001b[94m\n",
      "All variables:\u001b[0m\n",
      "\u001b[0m                                                       File A                     File B\u001b[0m\n",
      "\u001b[0m                     All Variables                                                      \u001b[0m\n",
      "\u001b[0m                                 - -------------------------- --------------------------\u001b[0m\n",
      "\u001b[0m                                                                                        \u001b[0m\n",
      "\u001b[0m                         GROUP #00 -------------------------/ -------------------------/\u001b[0m\n",
      "\u001b[0m           num variables in group:                          8                          8\u001b[0m\n",
      "\u001b[0m                                 - -------------------------- --------------------------\u001b[0m\n",
      "\u001b[0m               -----VARIABLE-----:                 lat_bounds                 lat_bounds\u001b[0m\n",
      "\u001b[0m                            dtype:                    float32                    float32\u001b[0m\n",
      "\u001b[0m                       dimensions:         ('latitude', 'nv')         ('latitude', 'nv')\u001b[0m\n",
      "\u001b[0m                            shape:                    (72, 2)                    (72, 2)\u001b[0m\n",
      "\u001b[0m               -----VARIABLE-----:                   latitude                   latitude\u001b[0m\n",
      "\u001b[0m                            dtype:                    float32                    float32\u001b[0m\n",
      "\u001b[0m                       dimensions:              ('latitude',)              ('latitude',)\u001b[0m\n",
      "\u001b[0m                            shape:                      (72,)                      (72,)\u001b[0m\n",
      "\u001b[0m               -----VARIABLE-----:                 lon_bounds                 lon_bounds\u001b[0m\n",
      "\u001b[0m                            dtype:                    float32                    float32\u001b[0m\n",
      "\u001b[0m                       dimensions:        ('longitude', 'nv')        ('longitude', 'nv')\u001b[0m\n",
      "\u001b[0m                            shape:                   (144, 2)                   (144, 2)\u001b[0m\n",
      "\u001b[0m               -----VARIABLE-----:                  longitude                  longitude\u001b[0m\n",
      "\u001b[0m                            dtype:                    float32                    float32\u001b[0m\n",
      "\u001b[0m                       dimensions:             ('longitude',)             ('longitude',)\u001b[0m\n",
      "\u001b[0m                            shape:                     (144,)                     (144,)\u001b[0m\n",
      "\u001b[0m               -----VARIABLE-----:                     precip                     precip\u001b[0m\n",
      "\u001b[0m                            dtype:                    float32                    float32\u001b[0m\n",
      "\u001b[0m                       dimensions: ('time', 'latitude', 'longitude') ('time', 'latitude', 'longitude')\u001b[0m\n",
      "\u001b[0m                            shape:               (1, 72, 144)               (1, 72, 144)\u001b[0m\n",
      "\u001b[0m               -----VARIABLE-----:               precip_error               precip_error\u001b[0m\n",
      "\u001b[0m                            dtype:                    float32                    float32\u001b[0m\n",
      "\u001b[0m                       dimensions: ('time', 'latitude', 'longitude') ('time', 'latitude', 'longitude')\u001b[0m\n",
      "\u001b[0m                            shape:               (1, 72, 144)               (1, 72, 144)\u001b[0m\n",
      "\u001b[0m               -----VARIABLE-----:                       time                       time\u001b[0m\n",
      "\u001b[0m                            dtype:                    float32                    float32\u001b[0m\n",
      "\u001b[0m                       dimensions:                  ('time',)                  ('time',)\u001b[0m\n",
      "\u001b[0m                            shape:                       (1,)                       (1,)\u001b[0m\n",
      "\u001b[0m               -----VARIABLE-----:                time_bounds                time_bounds\u001b[0m\n",
      "\u001b[0m                            dtype:                    float32                    float32\u001b[0m\n",
      "\u001b[0m                       dimensions:             ('time', 'nv')             ('time', 'nv')\u001b[0m\n",
      "\u001b[0m                            shape:                     (1, 2)                     (1, 2)\u001b[0m\n",
      "\u001b[0m                                 - -------------------------- --------------------------\u001b[0m\n",
      "\u001b[0m                           SUMMARY -------------------------- --------------------------\u001b[0m\n",
      "\u001b[0m      Total # of shared variables:                          8                          8\u001b[0m\n",
      "\u001b[0m  Total # of non-shared variables:                          0                          0\u001b[0m\n",
      "\u001b[0m         Total # of shared groups:                          0                          0\u001b[0m\n",
      "\u001b[0m     Total # of non-shared groups:                          0                          0\u001b[0m\n",
      "\u001b[0m     Total # of shared attributes:                         24                         24\u001b[0m\n",
      "\u001b[0m Total # of non-shared attributes:                          0                          0\u001b[0m\n",
      "\u001b[0m\u001b[37m\u001b[0m\n",
      "Done.\u001b[0m\n",
      "\u001b[0m0\u001b[0m\n",
      "\u001b[0m\u001b[0m"
     ]
    }
   ],
   "source": [
    "! ncompare --column-widths 33 26 26 {file_names[0]} {file_names[1]}"
   ]
  },
  {
   "cell_type": "markdown",
   "id": "220888cd-92d1-4bb4-9b5d-8187f89bda87",
   "metadata": {},
   "source": [
    "## Example 2: Two netCDF files with different groups, variables, and attributes\n",
    "----"
   ]
  },
  {
   "cell_type": "code",
   "execution_count": 5,
   "id": "c48728a0-1379-4a05-b7e6-ad50694510df",
   "metadata": {
    "ExecuteTime": {
     "end_time": "2025-01-06T15:44:16.987293Z",
     "start_time": "2025-01-06T15:44:16.251236Z"
    }
   },
   "outputs": [
    {
     "name": "stdout",
     "output_type": "stream",
     "text": [
      "\u001b[37m\u001b[0mFile A: gpcp_v02r03_monthly_d202301_c20230411.nc\u001b[0m\n",
      "\u001b[0m\u001b[37m\u001b[0mFile B: PERSIANN-CDR_v01r01_20230419_c20231030.nc\u001b[0m\n",
      "\u001b[0m\u001b[37m\u001b[0m\u001b[94m\n",
      "Root-level Dimensions:\u001b[0m\n",
      "\u001b[0m\u001b[37m\u001b[0m\tAre all items the same? ---> \u001b[31mFalse.  (2 items are shared, out of 6 total.)\u001b[0m\n",
      "\u001b[0m\u001b[37m\u001b[0m\t\u001b[31mWhich items are different?\u001b[0m\n",
      "\u001b[0m                                                           File A                         File B\u001b[0m\n",
      "\u001b[0m\u001b[37m\u001b[0m                              \u001b[31m #00 ------------------------------ ------------------('lat', 480)\u001b[0m\n",
      "\u001b[0m\u001b[37m\u001b[0m                              \u001b[31m #01 --------------('latitude', 72) ------------------------------\u001b[0m\n",
      "\u001b[0m\u001b[37m\u001b[0m                              \u001b[31m #02 ------------------------------ -----------------('lon', 1440)\u001b[0m\n",
      "\u001b[0m\u001b[37m\u001b[0m                              \u001b[31m #03 ------------('longitude', 144) ------------------------------\u001b[0m\n",
      "\u001b[0m                               #04 ---------------------('nv', 2) ---------------------('nv', 2)\u001b[0m\n",
      "\u001b[0m                               #05 -------------------('time', 1) -------------------('time', 1)\u001b[0m\n",
      "\u001b[0m       Number of non-shared items:                              2                              2\u001b[0m\n",
      "\u001b[0m\u001b[37m\u001b[0m\u001b[94m\n",
      "Root-level Groups:\u001b[0m\n",
      "\u001b[0m\u001b[37m\u001b[0m\t\u001b[36mAre all items the same? ---> True.  (No items exist.)\u001b[0m\n",
      "\u001b[0m\u001b[37m\u001b[0m\u001b[94m\n",
      "All variables:\u001b[0m\n",
      "\u001b[0m                                                           File A                         File B\u001b[0m\n",
      "\u001b[0m                     All Variables                                                              \u001b[0m\n",
      "\u001b[0m                                 - ------------------------------ ------------------------------\u001b[0m\n",
      "\u001b[0m                                                                                                \u001b[0m\n",
      "\u001b[0m                         GROUP #00 -----------------------------/ -----------------------------/\u001b[0m\n",
      "\u001b[0m\u001b[37m\u001b[0m           \u001b[31mnum variables in group:                              8                              6\u001b[0m\n",
      "\u001b[0m                                 - ------------------------------ ------------------------------\u001b[0m\n",
      "\u001b[0m               -----VARIABLE-----:                                                           lat\u001b[0m\n",
      "\u001b[0m\u001b[37m\u001b[0m                            \u001b[31mdtype:                                                       float32\u001b[0m\n",
      "\u001b[0m\u001b[37m\u001b[0m                       \u001b[31mdimensions:                                                      ('lat',)\u001b[0m\n",
      "\u001b[0m\u001b[37m\u001b[0m                            \u001b[31mshape:                                                        (480,)\u001b[0m\n",
      "\u001b[0m               -----VARIABLE-----:                                                      lat_bnds\u001b[0m\n",
      "\u001b[0m\u001b[37m\u001b[0m                            \u001b[31mdtype:                                                       float32\u001b[0m\n",
      "\u001b[0m\u001b[37m\u001b[0m                       \u001b[31mdimensions:                                                 ('lat', 'nv')\u001b[0m\n",
      "\u001b[0m\u001b[37m\u001b[0m                            \u001b[31mshape:                                                      (480, 2)\u001b[0m\n",
      "\u001b[0m               -----VARIABLE-----:                     lat_bounds                               \u001b[0m\n",
      "\u001b[0m\u001b[37m\u001b[0m                            \u001b[31mdtype:                        float32                               \u001b[0m\n",
      "\u001b[0m\u001b[37m\u001b[0m                       \u001b[31mdimensions:             ('latitude', 'nv')                               \u001b[0m\n",
      "\u001b[0m\u001b[37m\u001b[0m                            \u001b[31mshape:                        (72, 2)                               \u001b[0m\n",
      "\u001b[0m               -----VARIABLE-----:                       latitude                               \u001b[0m\n",
      "\u001b[0m\u001b[37m\u001b[0m                            \u001b[31mdtype:                        float32                               \u001b[0m\n",
      "\u001b[0m\u001b[37m\u001b[0m                       \u001b[31mdimensions:                  ('latitude',)                               \u001b[0m\n",
      "\u001b[0m\u001b[37m\u001b[0m                            \u001b[31mshape:                          (72,)                               \u001b[0m\n",
      "\u001b[0m               -----VARIABLE-----:                                                           lon\u001b[0m\n",
      "\u001b[0m\u001b[37m\u001b[0m                            \u001b[31mdtype:                                                       float32\u001b[0m\n",
      "\u001b[0m\u001b[37m\u001b[0m                       \u001b[31mdimensions:                                                      ('lon',)\u001b[0m\n",
      "\u001b[0m\u001b[37m\u001b[0m                            \u001b[31mshape:                                                       (1440,)\u001b[0m\n",
      "\u001b[0m               -----VARIABLE-----:                                                      lon_bnds\u001b[0m\n",
      "\u001b[0m\u001b[37m\u001b[0m                            \u001b[31mdtype:                                                       float32\u001b[0m\n",
      "\u001b[0m\u001b[37m\u001b[0m                       \u001b[31mdimensions:                                                 ('lon', 'nv')\u001b[0m\n",
      "\u001b[0m\u001b[37m\u001b[0m                            \u001b[31mshape:                                                     (1440, 2)\u001b[0m\n",
      "\u001b[0m               -----VARIABLE-----:                     lon_bounds                               \u001b[0m\n",
      "\u001b[0m\u001b[37m\u001b[0m                            \u001b[31mdtype:                        float32                               \u001b[0m\n",
      "\u001b[0m\u001b[37m\u001b[0m                       \u001b[31mdimensions:            ('longitude', 'nv')                               \u001b[0m\n",
      "\u001b[0m\u001b[37m\u001b[0m                            \u001b[31mshape:                       (144, 2)                               \u001b[0m\n",
      "\u001b[0m               -----VARIABLE-----:                      longitude                               \u001b[0m\n",
      "\u001b[0m\u001b[37m\u001b[0m                            \u001b[31mdtype:                        float32                               \u001b[0m\n",
      "\u001b[0m\u001b[37m\u001b[0m                       \u001b[31mdimensions:                 ('longitude',)                               \u001b[0m\n",
      "\u001b[0m\u001b[37m\u001b[0m                            \u001b[31mshape:                         (144,)                               \u001b[0m\n",
      "\u001b[0m               -----VARIABLE-----:                         precip                               \u001b[0m\n",
      "\u001b[0m\u001b[37m\u001b[0m                            \u001b[31mdtype:                        float32                               \u001b[0m\n",
      "\u001b[0m\u001b[37m\u001b[0m                       \u001b[31mdimensions: ('time', 'latitude', 'longitude')                               \u001b[0m\n",
      "\u001b[0m\u001b[37m\u001b[0m                            \u001b[31mshape:                   (1, 72, 144)                               \u001b[0m\n",
      "\u001b[0m               -----VARIABLE-----:                   precip_error                               \u001b[0m\n",
      "\u001b[0m\u001b[37m\u001b[0m                            \u001b[31mdtype:                        float32                               \u001b[0m\n",
      "\u001b[0m\u001b[37m\u001b[0m                       \u001b[31mdimensions: ('time', 'latitude', 'longitude')                               \u001b[0m\n",
      "\u001b[0m\u001b[37m\u001b[0m                            \u001b[31mshape:                   (1, 72, 144)                               \u001b[0m\n",
      "\u001b[0m               -----VARIABLE-----:                                                 precipitation\u001b[0m\n",
      "0m0m\u001b[37m\u001b[0m                            \u001b[31mdtype:                                                       float32\u001b[\n",
      "\u001b[0m\u001b[37m\u001b[0m                       \u001b[31mdimensions:                                        ('time', 'lon', 'lat')\u001b[0m\n",
      "\u001b[0m\u001b[37m\u001b[0m                            \u001b[31mshape:                                                (1, 1440, 480)\u001b[0m\n",
      "\u001b[0m               -----VARIABLE-----:                           time                           time\u001b[0m\n",
      "\u001b[0m\u001b[37m\u001b[0m                            \u001b[31mdtype:                        float32                          int32\u001b[0m\n",
      "\u001b[0m                       dimensions:                      ('time',)                      ('time',)\u001b[0m\n",
      "\u001b[0m                            shape:                           (1,)                           (1,)\u001b[0m\n",
      "\u001b[0m               -----VARIABLE-----:                    time_bounds                               \u001b[0m\n",
      "\u001b[0m\u001b[37m\u001b[0m                            \u001b[31mdtype:                        float32                               \u001b[0m\n",
      "\u001b[0m\u001b[37m\u001b[0m                       \u001b[31mdimensions:                 ('time', 'nv')                               \u001b[0m\n",
      "\u001b[0m\u001b[37m\u001b[0m                            \u001b[31mshape:                         (1, 2)                               \u001b[0m\n",
      "\u001b[0m                                 - ------------------------------ ------------------------------\u001b[0m\n",
      "\u001b[0m                           SUMMARY ------------------------------ ------------------------------\u001b[0m\n",
      "\u001b[0m      Total # of shared variables:                              1                              1\u001b[0m\n",
      "\u001b[0m  Total # of non-shared variables:                              7                              5\u001b[0m\n",
      "\u001b[0m         Total # of shared groups:                              0                              0\u001b[0m\n",
      "\u001b[0m     Total # of non-shared groups:                              0                              0\u001b[0m\n",
      "\u001b[0m     Total # of shared attributes:                              2                              2\u001b[0m\n",
      "\u001b[0m Total # of non-shared attributes:                             22                             16\u001b[0m\n",
      "\u001b[0m\u001b[37m\u001b[0m\u001b[94m\n",
      "Differences were found in these attributes:\u001b[0m\n",
      "\u001b[0m\u001b[37m\u001b[0m\u001b[94m\n",
      "['dimensions', 'dtype', 'shape']\u001b[0m\n",
      "\u001b[0m\u001b[37m\u001b[0m\n",
      "Done.\u001b[0m\n",
      "\u001b[0m50\u001b[0m\n",
      "\u001b[0m\u001b[0m"
     ]
    }
   ],
   "source": [
    "! ncompare --column-widths 33 30 30 {file_names[0]} {file_names[2]}"
   ]
  },
  {
   "cell_type": "markdown",
   "id": "11a23041-6f24-491b-a9e3-124ace151736",
   "metadata": {},
   "source": [
    "#### More file details can be examined by using the `--show-attributes` and `--show-chunks` options"
   ]
  },
  {
   "cell_type": "code",
   "execution_count": 6,
   "id": "1dd4c51a-394c-4569-b8b1-053743e63cb9",
   "metadata": {
    "ExecuteTime": {
     "end_time": "2024-12-13T19:23:12.990375Z",
     "start_time": "2024-12-13T19:23:12.583132Z"
    }
   },
   "outputs": [
    {
     "name": "stdout",
     "output_type": "stream",
     "text": [
      "\u001b[37m\u001b[0mFile A: gpcp_v02r03_monthly_d202301_c20230411.nc\u001b[0m\n",
      "\u001b[0m\u001b[37m\u001b[0mFile B: PERSIANN-CDR_v01r01_20230419_c20231030.nc\u001b[0m\n",
      "\u001b[0m\u001b[37m\u001b[0m\u001b[94m\n",
      "Root-level Dimensions:\u001b[0m\n",
      "\u001b[0m\u001b[37m\u001b[0m\tAre all items the same? ---> \u001b[31mFalse.  (2 items are shared, out of 6 total.)\u001b[0m\n",
      "\u001b[0m\u001b[37m\u001b[0m\t\u001b[31mWhich items are different?\u001b[0m\n",
      "\u001b[0m                                                           File A                         File B\u001b[0m\n",
      "\u001b[0m\u001b[37m\u001b[0m                              \u001b[31m #00 ------------------------------ ------------------('lat', 480)\u001b[0m\n",
      "\u001b[0m\u001b[37m\u001b[0m                              \u001b[31m #01 --------------('latitude', 72) ------------------------------\u001b[0m\n",
      "\u001b[0m\u001b[37m\u001b[0m                              \u001b[31m #02 ------------------------------ -----------------('lon', 1440)\u001b[0m\n",
      "\u001b[0m\u001b[37m\u001b[0m                              \u001b[31m #03 ------------('longitude', 144) ------------------------------\u001b[0m\n",
      "\u001b[0m                               #04 ---------------------('nv', 2) ---------------------('nv', 2)\u001b[0m\n",
      "\u001b[0m                               #05 -------------------('time', 1) -------------------('time', 1)\u001b[0m\n",
      "\u001b[0m       Number of non-shared items:                              2                              2\u001b[0m\n",
      "\u001b[0m\u001b[37m\u001b[0m\u001b[94m\n",
      "Root-level Groups:\u001b[0m\n",
      "\u001b[0m\u001b[37m\u001b[0m\t\u001b[36mAre all items the same? ---> True.  (No items exist.)\u001b[0m\n",
      "\u001b[0m\u001b[37m\u001b[0m\u001b[94m\n",
      "All variables:\u001b[0m\n",
      "\u001b[0m                                                           File A                         File B\u001b[0m\n",
      "\u001b[0m                     All Variables                                                              \u001b[0m\n",
      "\u001b[0m                                 - ------------------------------ ------------------------------\u001b[0m\n",
      "\u001b[0m                                                                                                \u001b[0m\n",
      "\u001b[0m                         GROUP #00 -----------------------------/ -----------------------------/\u001b[0m\n",
      "\u001b[0m\u001b[37m\u001b[0m           \u001b[31mnum variables in group:                              8                              6\u001b[0m\n",
      "\u001b[0m                                 - ------------------------------ ------------------------------\u001b[0m\n",
      "\u001b[0m               -----VARIABLE-----:                                                           lat\u001b[0m\n",
      "\u001b[0m\u001b[37m\u001b[0m                            \u001b[31mdtype:                                                       float32\u001b[0m\n",
      "\u001b[0m\u001b[37m\u001b[0m                       \u001b[31mdimensions:                                                      ('lat',)\u001b[0m\n",
      "\u001b[0m\u001b[37m\u001b[0m                            \u001b[31mshape:                                                        (480,)\u001b[0m\n",
      "\u001b[0m\u001b[37m\u001b[0m                        \u001b[31mchunksize:                                                    contiguous\u001b[0m\n",
      "\u001b[0m\u001b[37m\u001b[0m                           \u001b[31mbounds:                                                      lat_bnds\u001b[0m\n",
      "\u001b[0m\u001b[37m\u001b[0m                        \u001b[31mlong_name:                                                      latitude\u001b[0m\n",
      "\u001b[0m\u001b[37m\u001b[0m                    \u001b[31mstandard_name:                                                      latitude\u001b[0m\n",
      "\u001b[0m\u001b[37m\u001b[0m                            \u001b[31munits:                                                 degrees_north\u001b[0m\n",
      "\u001b[0m\u001b[37m\u001b[0m                        \u001b[31mvalid_max:                                                          60.0\u001b[0m\n",
      "\u001b[0m\u001b[37m\u001b[0m                        \u001b[31mvalid_min:                                                         -60.0\u001b[0m\n",
      "\u001b[0m               -----VARIABLE-----:                                                      lat_bnds\u001b[0m\n",
      "\u001b[0m\u001b[37m\u001b[0m                            \u001b[31mdtype:                                                       float32\u001b[0m\n",
      "\u001b[0m\u001b[37m\u001b[0m                       \u001b[31mdimensions:                                                 ('lat', 'nv')\u001b[0m\n",
      "\u001b[0m\u001b[37m\u001b[0m                            \u001b[31mshape:                                                      (480, 2)\u001b[0m\n",
      "\u001b[0m\u001b[37m\u001b[0m                        \u001b[31mchunksize:                                                    contiguous\u001b[0m\n",
      "\u001b[0m               -----VARIABLE-----:                     lat_bounds                               \u001b[0m\n",
      "\u001b[0m\u001b[37m\u001b[0m                            \u001b[31mdtype:                        float32                               \u001b[0m\n",
      "\u001b[0m\u001b[37m\u001b[0m                       \u001b[31mdimensions:             ('latitude', 'nv')                               \u001b[0m\n",
      "\u001b[0m\u001b[37m\u001b[0m                            \u001b[31mshape:                        (72, 2)                               \u001b[0m\n",
      "\u001b[0m\u001b[37m\u001b[0m                        \u001b[31mchunksize:                     contiguous                               \u001b[0m\n",
      "\u001b[0m\u001b[37m\u001b[0m                          \u001b[31mcomment: latitude values at the north and south bounds of each pixel.                               \u001b[0m\n",
      "\u001b[0m               -----VARIABLE-----:                       latitude                               \u001b[0m\n",
      "\u001b[0m\u001b[37m\u001b[0m                            \u001b[31mdtype:                        float32                               \u001b[0m\n",
      "\u001b[0m\u001b[37m\u001b[0m                       \u001b[31mdimensions:                  ('latitude',)                               \u001b[0m\n",
      "\u001b[0m\u001b[37m\u001b[0m                            \u001b[31mshape:                          (72,)                               \u001b[0m\n",
      "\u001b[0m\u001b[37m\u001b[0m                        \u001b[31mchunksize:                     contiguous                               \u001b[0m\n",
      "\u001b[0m\u001b[37m\u001b[0m                             \u001b[31maxis:                              Y                               \u001b[0m\n",
      "\u001b[0m\u001b[37m\u001b[0m                           \u001b[31mbounds:                     lat_bounds                               \u001b[0m\n",
      "\u001b[0m\u001b[37m\u001b[0m                        \u001b[31mlong_name:                       Latitude                               \u001b[0m\n",
      "\u001b[0m\u001b[37m\u001b[0m                    \u001b[31mstandard_name:                       latitude                               \u001b[0m\n",
      "\u001b[0m\u001b[37m\u001b[0m                            \u001b[31munits:                  degrees_north                               \u001b[0m\n",
      "\u001b[0m\u001b[37m\u001b[0m                      \u001b[31mvalid_range:             [-90.0, 90.0, ...]                               \u001b[0m\n",
      "\u001b[0m               -----VARIABLE-----:                                                           lon\u001b[0m\n",
      "\u001b[0m\u001b[37m\u001b[0m                            \u001b[31mdtype:                                                       float32\u001b[0m\n",
      "\u001b[0m\u001b[37m\u001b[0m                       \u001b[31mdimensions:                                                      ('lon',)\u001b[0m\n",
      "\u001b[0m\u001b[37m\u001b[0m                            \u001b[31mshape:                                                       (1440,)\u001b[0m\n",
      "\u001b[0m\u001b[37m\u001b[0m                        \u001b[31mchunksize:                                                    contiguous\u001b[0m\n",
      "\u001b[0m\u001b[37m\u001b[0m                           \u001b[31mbounds:                                                      lon_bnds\u001b[0m\n",
      "\u001b[0m\u001b[37m\u001b[0m                        \u001b[31mlong_name:                                                     longitude\u001b[0m\n",
      "\u001b[0m\u001b[37m\u001b[0m                    \u001b[31mstandard_name:                                                     longitude\u001b[0m\n",
      "\u001b[0m\u001b[37m\u001b[0m                            \u001b[31munits:                                                  degrees_east\u001b[0m\n",
      "\u001b[0m\u001b[37m\u001b[0m                        \u001b[31mvalid_max:                                                         360.0\u001b[0m\n",
      "\u001b[0m\u001b[37m\u001b[0m                        \u001b[31mvalid_min:                                                           0.0\u001b[0m\n",
      "\u001b[0m               -----VARIABLE-----:                                                      lon_bnds\u001b[0m\n",
      "\u001b[0m\u001b[37m\u001b[0m                            \u001b[31mdtype:                                                       float32\u001b[0m\n",
      "\u001b[0m\u001b[37m\u001b[0m                       \u001b[31mdimensions:                                                 ('lon', 'nv')\u001b[0m\n",
      "\u001b[0m\u001b[37m\u001b[0m                            \u001b[31mshape:                                                     (1440, 2)\u001b[0m\n",
      "\u001b[0m\u001b[37m\u001b[0m                        \u001b[31mchunksize:                                                    contiguous\u001b[0m\n",
      "\u001b[0m               -----VARIABLE-----:                     lon_bounds                               \u001b[0m\n",
      "\u001b[0m\u001b[37m\u001b[0m                            \u001b[31mdtype:                        float32                               \u001b[0m\n",
      "\u001b[0m\u001b[37m\u001b[0m                       \u001b[31mdimensions:            ('longitude', 'nv')                               \u001b[0m\n",
      "\u001b[0m\u001b[37m\u001b[0m                            \u001b[31mshape:                       (144, 2)                               \u001b[0m\n",
      "\u001b[0m\u001b[37m\u001b[0m                        \u001b[31mchunksize:                     contiguous                               \u001b[0m\n",
      "\u001b[0m\u001b[37m\u001b[0m                          \u001b[31mcomment: longitude values at the west and east bounds of each pixel.                               \u001b[0m\n",
      "\u001b[0m               -----VARIABLE-----:                      longitude                               \u001b[0m\n",
      "\u001b[0m\u001b[37m\u001b[0m                            \u001b[31mdtype:                        float32                               \u001b[0m\n",
      "\u001b[0m\u001b[37m\u001b[0m                       \u001b[31mdimensions:                 ('longitude',)                               \u001b[0m\n",
      "\u001b[0m\u001b[37m\u001b[0m                            \u001b[31mshape:                         (144,)                               \u001b[0m\n",
      "\u001b[0m\u001b[37m\u001b[0m                        \u001b[31mchunksize:                     contiguous                               \u001b[0m\n",
      "\u001b[0m\u001b[37m\u001b[0m                             \u001b[31maxis:                              X                               \u001b[0m\n",
      "\u001b[0m\u001b[37m\u001b[0m                           \u001b[31mbounds:                     lon_bounds                               \u001b[0m\n",
      "\u001b[0m\u001b[37m\u001b[0m                        \u001b[31mlong_name:                      Longitude                               \u001b[0m\n",
      "\u001b[0m\u001b[37m\u001b[0m                    \u001b[31mstandard_name:                      longitude                               \u001b[0m\n",
      "\u001b[0m\u001b[37m\u001b[0m                            \u001b[31munits:                   degrees_east                               \u001b[0m\n",
      "\u001b[0m\u001b[37m\u001b[0m                      \u001b[31mvalid_range:              [0.0, 360.0, ...]                               \u001b[0m\n",
      "\u001b[0m               -----VARIABLE-----:                         precip                               \u001b[0m\n",
      "\u001b[0m\u001b[37m\u001b[0m                            \u001b[31mdtype:                        float32                               \u001b[0m\n",
      "\u001b[0m\u001b[37m\u001b[0m                       \u001b[31mdimensions: ('time', 'latitude', 'longitude')                               \u001b[0m\n",
      "\u001b[0m\u001b[37m\u001b[0m                            \u001b[31mshape:                   (1, 72, 144)                               \u001b[0m\n",
      "\u001b[0m\u001b[37m\u001b[0m                        \u001b[31mchunksize:                     contiguous                               \u001b[0m\n",
      "\u001b[0m\u001b[37m\u001b[0m                     \u001b[31mcell_methods:          area: mean time: mean                               \u001b[0m\n",
      "\u001b[0m\u001b[37m\u001b[0m                      \u001b[31mcoordinates:        time latitude longitude                               \u001b[0m\n",
      "\u001b[0m\u001b[37m\u001b[0m                        \u001b[31mlong_name: NOAA Climate Data Record (CDR) of GPCP Monthly Satellite-Gauge Combined Precipitation                               \u001b[0m\n",
      "\u001b[0m\u001b[37m\u001b[0m                    \u001b[31mmissing_value:                        -9999.0                               \u001b[0m\n",
      "\u001b[0m\u001b[37m\u001b[0m                    \u001b[31mstandard_name:           precipitation amount                               \u001b[0m\n",
      "\u001b[0m\u001b[37m\u001b[0m                            \u001b[31munits:                         mm/day                               \u001b[0m\n",
      "\u001b[0m\u001b[37m\u001b[0m                      \u001b[31mvalid_range:              [0.0, 100.0, ...]                               \u001b[0m\n",
      "\u001b[0m               -----VARIABLE-----:                   precip_error                               \u001b[0m\n",
      "\u001b[0m\u001b[37m\u001b[0m                            \u001b[31mdtype:                        float32                               \u001b[0m\n",
      "\u001b[0m\u001b[37m\u001b[0m                       \u001b[31mdimensions: ('time', 'latitude', 'longitude')                               \u001b[0m\n",
      "\u001b[0m\u001b[37m\u001b[0m                            \u001b[31mshape:                   (1, 72, 144)                               \u001b[0m\n",
      "\u001b[0m\u001b[37m\u001b[0m                        \u001b[31mchunksize:                     contiguous                               \u001b[0m\n",
      "\u001b[0m\u001b[37m\u001b[0m                      \u001b[31mcoordinates:        time latitude longitude                               \u001b[0m\n",
      "\u001b[0m\u001b[37m\u001b[0m                        \u001b[31mlong_name: NOAA CDR of GPCP Satellite-Gauge Combined Precipitation Error                               \u001b[0m\n",
      "\u001b[0m\u001b[37m\u001b[0m                    \u001b[31mmissing_value:                        -9999.0                               \u001b[0m\n",
      "\u001b[0m\u001b[37m\u001b[0m                            \u001b[31munits:                         mm/day                               \u001b[0m\n",
      "\u001b[0m\u001b[37m\u001b[0m                      \u001b[31mvalid_range:              [0.0, 100.0, ...]                               \u001b[0m\n",
      "\u001b[0m               -----VARIABLE-----:                                                 precipitation\u001b[0m\n",
      "\u001b[0m\u001b[37m\u001b[0m                            \u001b[31mdtype:                                                       float32\u001b[0m\n",
      "\u001b[0m\u001b[37m\u001b[0m                       \u001b[31mdimensions:                                        ('time', 'lon', 'lat')\u001b[0m\n",
      "\u001b[0m\u001b[37m\u001b[0m                            \u001b[31mshape:                                                (1, 1440, 480)\u001b[0m\n",
      "\u001b[0m\u001b[37m\u001b[0m                        \u001b[31mchunksize:                                                [1, 1440, 480]\u001b[0m\n",
      "\u001b[0m\u001b[37m\u001b[0m                       \u001b[31m_FillValue:                                                          -1.0\u001b[0m\n",
      "\u001b[0m\u001b[37m\u001b[0m                      \u001b[31mcell_method:                                                           sum\u001b[0m\n",
      "\u001b[0m\u001b[37m\u001b[0m                        \u001b[31mlong_name:                                NOAA Climate Data Record of PERSIANN-CDR daily precipitation\u001b[0m\n",
      "\u001b[0m\u001b[37m\u001b[0m                    \u001b[31mmissing_value:                                                       -9999.0\u001b[0m\n",
      "\u001b[0m\u001b[37m\u001b[0m                    \u001b[31mstandard_name:                                          precipitation_amount\u001b[0m\n",
      "\u001b[0m\u001b[37m\u001b[0m                            \u001b[31munits:                                                            mm\u001b[0m\n",
      "\u001b[0m\u001b[37m\u001b[0m                        \u001b[31mvalid_max:                                                      999999.0\u001b[0m\n",
      "\u001b[0m\u001b[37m\u001b[0m                        \u001b[31mvalid_min:                                                           0.0\u001b[0m\n",
      "\u001b[0m               -----VARIABLE-----:                           time                           time\u001b[0m\n",
      "\u001b[0m\u001b[37m\u001b[0m                            \u001b[31mdtype:                        float32                          int32\u001b[0m\n",
      "\u001b[0m                       dimensions:                      ('time',)                      ('time',)\u001b[0m\n",
      "\u001b[0m                            shape:                           (1,)                           (1,)\u001b[0m\n",
      "\u001b[0m                        chunksize:                     contiguous                     contiguous\u001b[0m\n",
      "\u001b[0m\u001b[37m\u001b[0m                             \u001b[31maxis:                              T                               \u001b[0m\n",
      "\u001b[0m\u001b[37m\u001b[0m                           \u001b[31mbounds:                    time_bounds                               \u001b[0m\n",
      "\u001b[0m\u001b[37m\u001b[0m                         \u001b[31mcalendar:                      Gregorian                               \u001b[0m\n",
      "\u001b[0m                        long_name:                           time                           time\u001b[0m\n",
      "\u001b[0m                    standard_name:                           time                           time\u001b[0m\n",
      "\u001b[0m\u001b[37m\u001b[0m                            \u001b[31munits: days since 1970-01-01 00:00:00 0:00    days since 1979-01-01 0:0:0\u001b[0m\n",
      "\u001b[0m               -----VARIABLE-----:                    time_bounds                               \u001b[0m\n",
      "\u001b[0m\u001b[37m\u001b[0m                            \u001b[31mdtype:                        float32                               \u001b[0m\n",
      "\u001b[0m\u001b[37m\u001b[0m                       \u001b[31mdimensions:                 ('time', 'nv')                               \u001b[0m\n",
      "\u001b[0m\u001b[37m\u001b[0m                            \u001b[31mshape:                         (1, 2)                               \u001b[0m\n",
      "\u001b[0m\u001b[37m\u001b[0m                        \u001b[31mchunksize:                     contiguous                               \u001b[0m\n",
      "\u001b[0m\u001b[37m\u001b[0m                          \u001b[31mcomment: time bounds for each time value                               \u001b[0m\n",
      "\u001b[0m                                 - ------------------------------ ------------------------------\u001b[0m\n",
      "\u001b[0m                           SUMMARY ------------------------------ ------------------------------\u001b[0m\n",
      "\u001b[0m      Total # of shared variables:                              1                              1\u001b[0m\n",
      "\u001b[0m  Total # of non-shared variables:                              7                              5\u001b[0m\n",
      "\u001b[0m         Total # of shared groups:                              0                              0\u001b[0m\n",
      "\u001b[0m     Total # of non-shared groups:                              0                              0\u001b[0m\n",
      "\u001b[0m     Total # of shared attributes:                              5                              5\u001b[0m\n",
      "\u001b[0m Total # of non-shared attributes:                             60                             42\u001b[0m\n",
      "\u001b[0m\u001b[37m\u001b[0m\u001b[94m\n",
      "Differences were found in these attributes:\u001b[0m\n",
      "\u001b[0m\u001b[37m\u001b[0m\u001b[94m\n",
      "['_FillValue', 'axis', 'bounds', 'calendar', 'cell_method', 'cell_methods', 'chunksize', 'comment', 'coordinates', 'dimensions', 'dtype', 'long_name', 'missing_value', 'shape', 'standard_name', 'units', 'valid_max', 'valid_min', 'valid_range']\u001b[0m\n",
      "\u001b[0m\u001b[37m\u001b[0m\n",
      "Done.\u001b[0m\n",
      "\u001b[0m114\u001b[0m\n",
      "\u001b[0m\u001b[0m"
     ]
    }
   ],
   "source": [
    "! ncompare --show-attributes --show-chunks --column-widths 33 30 30 {file_names[0]} {file_names[2]}"
   ]
  },
  {
   "cell_type": "markdown",
   "id": "7e1344892c25806a",
   "metadata": {},
   "source": [
    "# Python Package Usage Example\n",
    "----"
   ]
  },
  {
   "cell_type": "code",
   "execution_count": 7,
   "id": "525f98b5cbb923",
   "metadata": {
    "ExecuteTime": {
     "end_time": "2024-12-13T19:23:13.326162Z",
     "start_time": "2024-12-13T19:23:12.996001Z"
    }
   },
   "outputs": [],
   "source": [
    "from ncompare import compare"
   ]
  },
  {
   "cell_type": "code",
   "execution_count": 8,
   "id": "f3363c6630447104",
   "metadata": {
    "ExecuteTime": {
     "end_time": "2024-12-13T19:23:13.428938Z",
     "start_time": "2024-12-13T19:23:13.330402Z"
    }
   },
   "outputs": [
    {
     "name": "stdout",
     "output_type": "stream",
     "text": [
      "File A: gpcp_v02r03_monthly_d202301_c20230411.nc\n",
      "File B: PERSIANN-CDR_v01r01_20230419_c20231030.nc\n",
      "\n",
      "Root-level Dimensions:\n",
      "\tAre all items the same? ---> False.  (2 items are shared, out of 6 total.)\n",
      "\tWhich items are different?\n",
      "                                                           File A                         File B\n",
      "                               #00 ------------------------------ ------------------('lat', 480)\n",
      "                               #01 --------------('latitude', 72) ------------------------------\n",
      "                               #02 ------------------------------ -----------------('lon', 1440)\n",
      "                               #03 ------------('longitude', 144) ------------------------------\n",
      "\n",
      "Root-level Groups:\n",
      "\tAre all items the same? ---> True.  (No items exist.)\n",
      "\n",
      "All variables:\n",
      "                                                           File A                         File B\n",
      "                     All Variables                                                              \n",
      "                                 - ------------------------------ ------------------------------\n",
      "                                                                                                \n",
      "                         GROUP #00 -----------------------------/ -----------------------------/\n",
      "           num variables in group:                              8                              6\n",
      "                                 - ------------------------------ ------------------------------\n",
      "               -----VARIABLE-----:                                                           lat\n",
      "                            dtype:                                                       float32\n",
      "                       dimensions:                                                      ('lat',)\n",
      "                            shape:                                                        (480,)\n",
      "                        chunksize:                                                    contiguous\n",
      "                           bounds:                                                      lat_bnds\n",
      "                        long_name:                                                      latitude\n",
      "                    standard_name:                                                      latitude\n",
      "                            units:                                                 degrees_north\n",
      "                        valid_max:                                                          60.0\n",
      "                        valid_min:                                                         -60.0\n",
      "               -----VARIABLE-----:                                                      lat_bnds\n",
      "                            dtype:                                                       float32\n",
      "                       dimensions:                                                 ('lat', 'nv')\n",
      "                            shape:                                                      (480, 2)\n",
      "                        chunksize:                                                    contiguous\n",
      "               -----VARIABLE-----:                     lat_bounds                               \n",
      "                            dtype:                        float32                               \n",
      "                       dimensions:             ('latitude', 'nv')                               \n",
      "                            shape:                        (72, 2)                               \n",
      "                        chunksize:                     contiguous                               \n",
      "                          comment: latitude values at the north and south bounds of each pixel.                               \n",
      "               -----VARIABLE-----:                       latitude                               \n",
      "                            dtype:                        float32                               \n",
      "                       dimensions:                  ('latitude',)                               \n",
      "                            shape:                          (72,)                               \n",
      "                        chunksize:                     contiguous                               \n",
      "                             axis:                              Y                               \n",
      "                           bounds:                     lat_bounds                               \n",
      "                        long_name:                       Latitude                               \n",
      "                    standard_name:                       latitude                               \n",
      "                            units:                  degrees_north                               \n",
      "                      valid_range:             [-90.0, 90.0, ...]                               \n",
      "               -----VARIABLE-----:                                                           lon\n",
      "                            dtype:                                                       float32\n",
      "                       dimensions:                                                      ('lon',)\n",
      "                            shape:                                                       (1440,)\n",
      "                        chunksize:                                                    contiguous\n",
      "                           bounds:                                                      lon_bnds\n",
      "                        long_name:                                                     longitude\n",
      "                    standard_name:                                                     longitude\n",
      "                            units:                                                  degrees_east\n",
      "                        valid_max:                                                         360.0\n",
      "                        valid_min:                                                           0.0\n",
      "               -----VARIABLE-----:                                                      lon_bnds\n",
      "                            dtype:                                                       float32\n",
      "                       dimensions:                                                 ('lon', 'nv')\n",
      "                            shape:                                                     (1440, 2)\n",
      "                        chunksize:                                                    contiguous\n",
      "               -----VARIABLE-----:                     lon_bounds                               \n",
      "                            dtype:                        float32                               \n",
      "                       dimensions:            ('longitude', 'nv')                               \n",
      "                            shape:                       (144, 2)                               \n",
      "                        chunksize:                     contiguous                               \n",
      "                          comment: longitude values at the west and east bounds of each pixel.                               \n",
      "               -----VARIABLE-----:                      longitude                               \n",
      "                            dtype:                        float32                               \n",
      "                       dimensions:                 ('longitude',)                               \n",
      "                            shape:                         (144,)                               \n",
      "                        chunksize:                     contiguous                               \n",
      "                             axis:                              X                               \n",
      "                           bounds:                     lon_bounds                               \n",
      "                        long_name:                      Longitude                               \n",
      "                    standard_name:                      longitude                               \n",
      "                            units:                   degrees_east                               \n",
      "                      valid_range:              [0.0, 360.0, ...]                               \n",
      "               -----VARIABLE-----:                         precip                               \n",
      "                            dtype:                        float32                               \n",
      "                       dimensions: ('time', 'latitude', 'longitude')                               \n",
      "                            shape:                   (1, 72, 144)                               \n",
      "                        chunksize:                     contiguous                               \n",
      "                     cell_methods:          area: mean time: mean                               \n",
      "                      coordinates:        time latitude longitude                               \n",
      "                        long_name: NOAA Climate Data Record (CDR) of GPCP Monthly Satellite-Gauge Combined Precipitation                               \n",
      "                    missing_value:                        -9999.0                               \n",
      "                    standard_name:           precipitation amount                               \n",
      "                            units:                         mm/day                               \n",
      "                      valid_range:              [0.0, 100.0, ...]                               \n",
      "               -----VARIABLE-----:                   precip_error                               \n",
      "                            dtype:                        float32                               \n",
      "                       dimensions: ('time', 'latitude', 'longitude')                               \n",
      "                            shape:                   (1, 72, 144)                               \n",
      "                        chunksize:                     contiguous                               \n",
      "                      coordinates:        time latitude longitude                               \n",
      "                        long_name: NOAA CDR of GPCP Satellite-Gauge Combined Precipitation Error                               \n",
      "                    missing_value:                        -9999.0                               \n",
      "                            units:                         mm/day                               \n",
      "                      valid_range:              [0.0, 100.0, ...]                               \n",
      "               -----VARIABLE-----:                                                 precipitation\n",
      "                            dtype:                                                       float32\n",
      "                       dimensions:                                        ('time', 'lon', 'lat')\n",
      "                            shape:                                                (1, 1440, 480)\n",
      "                        chunksize:                                                [1, 1440, 480]\n",
      "                       _FillValue:                                                          -1.0\n",
      "                      cell_method:                                                           sum\n",
      "                        long_name:                                NOAA Climate Data Record of PERSIANN-CDR daily precipitation\n",
      "                    missing_value:                                                       -9999.0\n",
      "                    standard_name:                                          precipitation_amount\n",
      "                            units:                                                            mm\n",
      "                        valid_max:                                                      999999.0\n",
      "                        valid_min:                                                           0.0\n",
      "               -----VARIABLE-----:                           time                           time\n",
      "                            dtype:                        float32                          int32\n",
      "                             axis:                              T                               \n",
      "                           bounds:                    time_bounds                               \n",
      "                         calendar:                      Gregorian                               \n",
      "                            units: days since 1970-01-01 00:00:00 0:00    days since 1979-01-01 0:0:0\n",
      "               -----VARIABLE-----:                    time_bounds                               \n",
      "                            dtype:                        float32                               \n",
      "                       dimensions:                 ('time', 'nv')                               \n",
      "                            shape:                         (1, 2)                               \n",
      "                        chunksize:                     contiguous                               \n",
      "                          comment: time bounds for each time value                               \n",
      "                                 - ------------------------------ ------------------------------\n",
      "                           SUMMARY ------------------------------ ------------------------------\n",
      "      Total # of shared variables:                              1                              1\n",
      "  Total # of non-shared variables:                              7                              5\n",
      "         Total # of shared groups:                              0                              0\n",
      "     Total # of non-shared groups:                              0                              0\n",
      "     Total # of shared attributes:                              5                              5\n",
      " Total # of non-shared attributes:                             60                             42\n",
      "\n",
      "Differences were found in these attributes:\n",
      "\n",
      "['_FillValue', 'axis', 'bounds', 'calendar', 'cell_method', 'cell_methods', 'chunksize', 'comment', 'coordinates', 'dimensions', 'dtype', 'long_name', 'missing_value', 'shape', 'standard_name', 'units', 'valid_max', 'valid_min', 'valid_range']\n",
      "\n",
      "Done.\n"
     ]
    }
   ],
   "source": [
    "total_number_of_differences = compare(\n",
    "    file_names[0],\n",
    "    file_names[2],\n",
    "    only_diffs=True,\n",
    "    show_chunks=True,\n",
    "    show_attributes=True,\n",
    "    column_widths=[33, 30, 30],\n",
    ")"
   ]
  },
  {
   "cell_type": "markdown",
   "id": "b8b3f36e-c4ed-4392-81a8-fedcbd6fa3c8",
   "metadata": {},
   "source": [
    "The output of `ncompare` is the total number of differences (across _variables_, _groups_, and _attributes_):"
   ]
  },
  {
   "cell_type": "code",
   "execution_count": 9,
   "id": "d93e1ef4-4bf9-4e48-b166-d42ca2ff42e9",
   "metadata": {},
   "outputs": [
    {
     "name": "stdout",
     "output_type": "stream",
     "text": [
      "114\n"
     ]
    }
   ],
   "source": [
    "print(total_number_of_differences)"
   ]
  },
  {
   "cell_type": "markdown",
   "id": "dccb326d-3b47-4d0f-b96d-93577d3e7c54",
   "metadata": {},
   "source": [
    "END of Notebook."
   ]
  }
 ],
 "metadata": {
  "kernelspec": {
   "display_name": "temp_for_ncompare_test",
   "language": "python",
   "name": "temp_for_ncompare_test"
  },
  "language_info": {
   "codemirror_mode": {
    "name": "ipython",
    "version": 3
   },
   "file_extension": ".py",
   "mimetype": "text/x-python",
   "name": "python",
   "nbconvert_exporter": "python",
   "pygments_lexer": "ipython3",
   "version": "3.12.3"
  }
 },
 "nbformat": 4,
 "nbformat_minor": 5
}
